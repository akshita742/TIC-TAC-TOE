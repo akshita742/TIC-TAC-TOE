{
 "cells": [
  {
   "cell_type": "code",
   "execution_count": 1,
   "id": "4fdb5d92-23ff-4821-98ea-b490296cf6f5",
   "metadata": {},
   "outputs": [],
   "source": [
    "def print_board(board):\n",
    "    for row in board:\n",
    "        print(\" | \".join(row))\n",
    "        print(\"-\" * 5)\n",
    "\n",
    "def is_winner(board, player):\n",
    "    for row in board:\n",
    "        if all([cell == player for cell in row]):\n",
    "            return True\n",
    "    for col in range(3):\n",
    "        if all([board[row][col] == player for row in range(3)]):\n",
    "            return True\n",
    "    if all([board[i][i] == player for i in range(3)]) or \\\n",
    "       all([board[i][2 - i] == player for i in range(3)]):\n",
    "        return True\n",
    "    return False\n",
    "\n",
    "def is_full(board):\n",
    "    return all(cell != ' ' for row in board for cell in row)\n",
    "\n",
    "def get_available_moves(board):\n",
    "    return [(i, j) for i in range(3) for j in range(3) if board[i][j] == ' ']\n"
   ]
  },
  {
   "cell_type": "code",
   "execution_count": 2,
   "id": "1a799762-f5e4-4d8b-92b5-58580e5569e9",
   "metadata": {},
   "outputs": [],
   "source": [
    "def minimax(board, depth, is_maximizing):\n",
    "    if is_winner(board, 'O'):\n",
    "        return 1\n",
    "    if is_winner(board, 'X'):\n",
    "        return -1\n",
    "    if is_full(board):\n",
    "        return 0\n",
    "\n",
    "    if is_maximizing:\n",
    "        best_score = -float('inf')\n",
    "        for (i, j) in get_available_moves(board):\n",
    "            board[i][j] = 'O'\n",
    "            score = minimax(board, depth + 1, False)\n",
    "            board[i][j] = ' '\n",
    "            best_score = max(score, best_score)\n",
    "        return best_score\n",
    "    else:\n",
    "        best_score = float('inf')\n",
    "        for (i, j) in get_available_moves(board):\n",
    "            board[i][j] = 'X'\n",
    "            score = minimax(board, depth + 1, True)\n",
    "            board[i][j] = ' '\n",
    "            best_score = min(score, best_score)\n",
    "        return best_score\n",
    "\n",
    "def best_move(board):\n",
    "    best_score = -float('inf')\n",
    "    move = None\n",
    "    for (i, j) in get_available_moves(board):\n",
    "        board[i][j] = 'O'\n",
    "        score = minimax(board, 0, False)\n",
    "        board[i][j] = ' '\n",
    "        if score > best_score:\n",
    "            best_score = score\n",
    "            move = (i, j)\n",
    "    return move\n"
   ]
  },
  {
   "cell_type": "code",
   "execution_count": 3,
   "id": "838f62e5-6edb-4624-984c-1d7991a11687",
   "metadata": {},
   "outputs": [],
   "source": [
    "def play_game():\n",
    "    board = [[' ' for _ in range(3)] for _ in range(3)]\n",
    "    print(\"Welcome to Tic-Tac-Toe! You are 'X'. AI is 'O'.\")\n",
    "    print_board(board)\n",
    "\n",
    "    while True:\n",
    "        # Human move\n",
    "        while True:\n",
    "            try:\n",
    "                row = int(input(\"Enter row (0-2): \"))\n",
    "                col = int(input(\"Enter col (0-2): \"))\n",
    "                if board[row][col] == ' ':\n",
    "                    board[row][col] = 'X'\n",
    "                    break\n",
    "                else:\n",
    "                    print(\"Cell already taken!\")\n",
    "            except:\n",
    "                print(\"Invalid input. Please enter numbers 0–2.\")\n",
    "\n",
    "        print_board(board)\n",
    "\n",
    "        if is_winner(board, 'X'):\n",
    "            print(\"You win! 🎉\")\n",
    "            break\n",
    "        if is_full(board):\n",
    "            print(\"It's a tie! 🤝\")\n",
    "            break\n",
    "\n",
    "        # AI move\n",
    "        ai_row, ai_col = best_move(board)\n",
    "        board[ai_row][ai_col] = 'O'\n",
    "        print(\"AI has made its move:\")\n",
    "        print_board(board)\n",
    "\n",
    "        if is_winner(board, 'O'):\n",
    "            print(\"AI wins! 🤖 Better luck next time.\")\n",
    "            break\n",
    "        if is_full(board):\n",
    "            print(\"It's a tie! 🤝\")\n",
    "            break\n"
   ]
  },
  {
   "cell_type": "code",
   "execution_count": 4,
   "id": "55d2364c-d569-460b-9946-21f3297e0893",
   "metadata": {},
   "outputs": [
    {
     "name": "stdout",
     "output_type": "stream",
     "text": [
      "Welcome to Tic-Tac-Toe! You are 'X'. AI is 'O'.\n",
      "  |   |  \n",
      "-----\n",
      "  |   |  \n",
      "-----\n",
      "  |   |  \n",
      "-----\n"
     ]
    },
    {
     "name": "stdin",
     "output_type": "stream",
     "text": [
      "Enter row (0-2):  1\n",
      "Enter col (0-2):  2\n"
     ]
    },
    {
     "name": "stdout",
     "output_type": "stream",
     "text": [
      "  |   |  \n",
      "-----\n",
      "  |   | X\n",
      "-----\n",
      "  |   |  \n",
      "-----\n",
      "AI has made its move:\n",
      "  |   | O\n",
      "-----\n",
      "  |   | X\n",
      "-----\n",
      "  |   |  \n",
      "-----\n"
     ]
    },
    {
     "name": "stdin",
     "output_type": "stream",
     "text": [
      "Enter row (0-2):  2\n",
      "Enter col (0-2):  0\n"
     ]
    },
    {
     "name": "stdout",
     "output_type": "stream",
     "text": [
      "  |   | O\n",
      "-----\n",
      "  |   | X\n",
      "-----\n",
      "X |   |  \n",
      "-----\n",
      "AI has made its move:\n",
      "O |   | O\n",
      "-----\n",
      "  |   | X\n",
      "-----\n",
      "X |   |  \n",
      "-----\n"
     ]
    },
    {
     "name": "stdin",
     "output_type": "stream",
     "text": [
      "Enter row (0-2):  1\n",
      "Enter col (0-2):  1\n"
     ]
    },
    {
     "name": "stdout",
     "output_type": "stream",
     "text": [
      "O |   | O\n",
      "-----\n",
      "  | X | X\n",
      "-----\n",
      "X |   |  \n",
      "-----\n",
      "AI has made its move:\n",
      "O | O | O\n",
      "-----\n",
      "  | X | X\n",
      "-----\n",
      "X |   |  \n",
      "-----\n",
      "AI wins! 🤖 Better luck next time.\n"
     ]
    }
   ],
   "source": [
    "play_game()\n"
   ]
  },
  {
   "cell_type": "code",
   "execution_count": null,
   "id": "1edbfda2-694a-40a8-a4fa-7a54827ac310",
   "metadata": {},
   "outputs": [],
   "source": []
  }
 ],
 "metadata": {
  "kernelspec": {
   "display_name": "Python 3 (ipykernel)",
   "language": "python",
   "name": "python3"
  },
  "language_info": {
   "codemirror_mode": {
    "name": "ipython",
    "version": 3
   },
   "file_extension": ".py",
   "mimetype": "text/x-python",
   "name": "python",
   "nbconvert_exporter": "python",
   "pygments_lexer": "ipython3",
   "version": "3.12.7"
  }
 },
 "nbformat": 4,
 "nbformat_minor": 5
}
